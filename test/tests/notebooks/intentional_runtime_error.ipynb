{
 "cells": [
  {
   "cell_type": "code",
   "execution_count": 1,
   "metadata": {},
   "outputs": [
    {
     "name": "stdout",
     "output_type": "stream",
     "text": [
      "Hello World\r\n"
     ]
    }
   ],
   "source": [
    "print(\"Hello World\")"
   ]
  },
  {
   "cell_type": "code",
   "execution_count": 2,
   "metadata": {},
   "outputs": [
    {
     "name": "stdout",
     "output_type": "stream",
     "text": [
      "Fatal error: intentional runtime error: file <Cell 2>, line 1\r\n",
      "Current stack trace:\r\n",
      "0    libswiftCore.so                    0x00007f01af2f9320 _swift_stdlib_reportFatalErrorInFile + 115\r\n",
      "1    libswiftCore.so                    0x00007f01af240dec <unavailable> + 3079660\r\n",
      "2    libswiftCore.so                    0x00007f01af240ede <unavailable> + 3079902\r\n",
      "3    libswiftCore.so                    0x00007f01af088752 <unavailable> + 1275730\r\n",
      "4    libswiftCore.so                    0x00007f01af20b0c2 <unavailable> + 2859202\r\n",
      "5    libswiftCore.so                    0x00007f01af087b99 <unavailable> + 1272729\r\n"
     ]
    },
    {
     "ename": "",
     "evalue": "",
     "output_type": "error",
     "traceback": [
      "Current stack trace:",
      "\tframe #2: 0x00007f01ba316d8b $__lldb_expr22`main at <Cell 2>:1:1"
     ]
    }
   ],
   "source": [
    "fatalError(\"intentional runtime error\")"
   ]
  },
  {
   "cell_type": "code",
   "execution_count": null,
   "metadata": {},
   "outputs": [],
   "source": []
  }
 ],
 "metadata": {
  "kernelspec": {
   "display_name": "Swift",
   "language": "swift",
   "name": "swift"
  },
  "language_info": {
   "file_extension": ".swift",
   "mimetype": "text/x-swift",
   "name": "swift",
   "version": ""
  }
 },
 "nbformat": 4,
 "nbformat_minor": 2
}
